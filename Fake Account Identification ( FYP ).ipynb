{
 "cells": [
  {
   "cell_type": "markdown",
   "id": "81dc0af9",
   "metadata": {},
   "source": [
    "# Libraries and Loading Datasets"
   ]
  },
  {
   "cell_type": "code",
   "execution_count": 1,
   "id": "50c54515",
   "metadata": {},
   "outputs": [],
   "source": [
    "import numpy as np\n",
    "import pandas as pd\n",
    "import matplotlib.pyplot as plt\n",
    "import seaborn as sns\n",
    "import warnings\n",
    "warnings.filterwarnings('ignore')\n",
    "from sklearn.datasets import load_files\n",
    "\n",
    "def load_train():\n",
    "    train_data = pd.read_csv(r'E:\\FYP\\P2\\archive\\train.csv', header = 0)\n",
    "    X_train = train_data.drop(columns = 'fake')\n",
    "    y_train = train_data['fake']\n",
    "    return X_train, y_train\n",
    "\n",
    "def load_test():\n",
    "    test_data = pd.read_csv(r'E:\\FYP\\P2\\archive\\test.csv', header = 0)\n",
    "    X_test = test_data.drop(columns = 'fake')\n",
    "    y_test = test_data['fake']\n",
    "    return X_test, y_test"
   ]
  },
  {
   "cell_type": "code",
   "execution_count": 2,
   "id": "8a44fb74",
   "metadata": {
    "scrolled": false
   },
   "outputs": [
    {
     "name": "stdout",
     "output_type": "stream",
     "text": [
      "<class 'pandas.core.frame.DataFrame'>\n",
      "RangeIndex: 576 entries, 0 to 575\n",
      "Data columns (total 11 columns):\n",
      " #   Column                 Non-Null Count  Dtype  \n",
      "---  ------                 --------------  -----  \n",
      " 0   profile pic:           576 non-null    int64  \n",
      " 1   description length:    576 non-null    int64  \n",
      " 2   external URL:          576 non-null    int64  \n",
      " 3   private:               576 non-null    int64  \n",
      " 4   #tweets:               576 non-null    int64  \n",
      " 5   #followers:            576 non-null    int64  \n",
      " 6   #following:            576 non-null    int64  \n",
      " 7   nums/length username:  576 non-null    float64\n",
      " 8   fullname words:        576 non-null    int64  \n",
      " 9   nums/length fullname:  576 non-null    float64\n",
      " 10  name==username:        576 non-null    int64  \n",
      "dtypes: float64(2), int64(9)\n",
      "memory usage: 49.6 KB\n",
      "None\n",
      "Size:  (576, 11) , Type:  <class 'pandas.core.frame.DataFrame'>\n",
      "Size:  (576,) , Type:  <class 'pandas.core.series.Series'>\n",
      "Label:  0 , Frequency:  288\n",
      "Label:  1 , Frequency:  288\n"
     ]
    },
    {
     "data": {
      "image/png": "[encoded data removed]",
      "text/plain": [
       "<Figure size 432x288 with 2 Axes>"
      ]
     },
     "metadata": {
      "needs_background": "light"
     },
     "output_type": "display_data"
    }
   ],
   "source": [
    "#Load Data\n",
    "X_data, y_data = load_train()\n",
    "print (X_data.info())\n",
    "    \n",
    "print (\"Size: \", X_data.shape, \", Type: \", type(X_data))\n",
    "print (\"Size: \", y_data.shape, \", Type: \", type(y_data))\n",
    "    \n",
    "#Data Analysis\n",
    "data_corr = X_data.corr(method = 'pearson')\n",
    "ax = sns.heatmap (data_corr, vmin = -1, vmax = 1, cmap = 'BrBG')\n",
    "ax.set_title (\"Co-Relation Heatmap between Features\")\n",
    "    \n",
    "#Imbalancing\n",
    "unique , freq = np.unique(y_data, return_counts = True)\n",
    "    \n",
    "for i, j in zip (unique, freq):\n",
    "    print (\"Label: \", i, \", Frequency: \", j)"
   ]
  },
  {
   "cell_type": "code",
   "execution_count": 3,
   "id": "37ce4bf2",
   "metadata": {},
   "outputs": [],
   "source": [
    "from sklearn.model_selection import train_test_split\n",
    "from sklearn.metrics import recall_score\n",
    "from sklearn.metrics import accuracy_score\n",
    "from sklearn.metrics import precision_score\n",
    "X_train, X_test, y_train, y_test = train_test_split(X_data,y_data, test_size=0.33, random_state=42)"
   ]
  },
  {
   "cell_type": "markdown",
   "id": "bbbf02b1",
   "metadata": {},
   "source": [
    "# Hyperparameter selection using grid search for decision tree classifier"
   ]
  },
  {
   "cell_type": "code",
   "execution_count": 4,
   "id": "b03fe586",
   "metadata": {},
   "outputs": [
    {
     "name": "stdout",
     "output_type": "stream",
     "text": [
      "Fitting 5 folds for each of 90 candidates, totalling 450 fits\n"
     ]
    },
    {
     "data": {
      "text/plain": [
       "GridSearchCV(cv=5, estimator=DecisionTreeClassifier(random_state=1024),\n",
       "             param_grid={'ccp_alpha': [0.1, 0.01, 0.001],\n",
       "                         'criterion': ['gini', 'entropy'],\n",
       "                         'max_depth': [5, 6, 7, 8, 9],\n",
       "                         'max_features': ['auto', 'sqrt', 'log2']},\n",
       "             verbose=True)"
      ]
     },
     "execution_count": 4,
     "metadata": {},
     "output_type": "execute_result"
    }
   ],
   "source": [
    "from sklearn.model_selection import GridSearchCV\n",
    "from sklearn.tree import DecisionTreeClassifier\n",
    "param_grid = {'max_features': ['auto', 'sqrt', 'log2'],\n",
    "              'ccp_alpha': [0.1, .01, .001],\n",
    "              'max_depth' : [5, 6, 7, 8, 9],\n",
    "              'criterion' :['gini', 'entropy']\n",
    "             }\n",
    "tree_clas = DecisionTreeClassifier(random_state=1024)\n",
    "grid_search = GridSearchCV(estimator=tree_clas, param_grid=param_grid, cv=5, verbose=True)\n",
    "grid_search.fit(X_train, y_train)"
   ]
  },
  {
   "cell_type": "code",
   "execution_count": 5,
   "id": "60691013",
   "metadata": {},
   "outputs": [
    {
     "data": {
      "text/plain": [
       "DecisionTreeClassifier(ccp_alpha=0.001, criterion='entropy', max_depth=8,\n",
       "                       max_features='auto', random_state=1024)"
      ]
     },
     "execution_count": 5,
     "metadata": {},
     "output_type": "execute_result"
    }
   ],
   "source": [
    "final_model = grid_search.best_estimator_\n",
    "final_model"
   ]
  },
  {
   "cell_type": "markdown",
   "id": "28b2f364",
   "metadata": {},
   "source": [
    "# Training decision tree classifier after hyperparameter tuning"
   ]
  },
  {
   "cell_type": "code",
   "execution_count": 6,
   "id": "dd511133",
   "metadata": {},
   "outputs": [
    {
     "data": {
      "text/plain": [
       "<AxesSubplot:>"
      ]
     },
     "execution_count": 6,
     "metadata": {},
     "output_type": "execute_result"
    },
    {
     "data": {
      "image/png": "[encoded data removed]",
      "text/plain": [
       "<Figure size 432x288 with 2 Axes>"
      ]
     },
     "metadata": {
      "needs_background": "light"
     },
     "output_type": "display_data"
    }
   ],
   "source": [
    "from sklearn.tree import DecisionTreeClassifier\n",
    "import seaborn as sns\n",
    "from sklearn.metrics import confusion_matrix\n",
    "dt =DecisionTreeClassifier(ccp_alpha=0.01, criterion='entropy', max_depth=5,\n",
    "                       max_features='auto', random_state=1024)\n",
    "dt.fit(X_train, y_train)\n",
    "y_predict_dt = dt.predict(X_test)\n",
    "# confusion_matrix\n",
    "cm = confusion_matrix(y_test, y_predict_dt)\n",
    "sns.heatmap(cm, annot=True, fmt=\"d\")\n"
   ]
  },
  {
   "cell_type": "markdown",
   "id": "fca43ac8",
   "metadata": {},
   "source": [
    "# Performence of decision tree classifier"
   ]
  },
  {
   "cell_type": "code",
   "execution_count": 7,
   "id": "a319f0f0",
   "metadata": {},
   "outputs": [
    {
     "name": "stdout",
     "output_type": "stream",
     "text": [
      "Accuracy 0.8429319371727748\n",
      "Precision 0.8434662236987818\n",
      "Recall 0.8411991199119913\n"
     ]
    }
   ],
   "source": [
    "print('Accuracy',accuracy_score((y_test), y_predict_dt))\n",
    "print('Precision',precision_score(y_test, y_predict_dt, average='macro'))\n",
    "print('Recall',recall_score(y_test, y_predict_dt, average='macro'))"
   ]
  },
  {
   "cell_type": "markdown",
   "id": "824c7fbf",
   "metadata": {},
   "source": [
    "# Hyperparameter selection using grid search for random forest classifier"
   ]
  },
  {
   "cell_type": "code",
   "execution_count": 8,
   "id": "ac9eedbc",
   "metadata": {},
   "outputs": [
    {
     "name": "stdout",
     "output_type": "stream",
     "text": [
      "Fitting 5 folds for each of 60 candidates, totalling 300 fits\n",
      "0.9763697705802968\n",
      "RandomForestClassifier(criterion='entropy', max_depth=7, max_features='sqrt',\n",
      "                       n_estimators=200)\n",
      "{'criterion': 'entropy', 'max_depth': 7, 'max_features': 'sqrt', 'n_estimators': 200}\n"
     ]
    }
   ],
   "source": [
    "from sklearn.ensemble import RandomForestClassifier\n",
    "\n",
    "# Creating the model:\n",
    "rf = RandomForestClassifier() \n",
    "params = { \n",
    "    'n_estimators': [200, 500],\n",
    "    'max_features': ['auto', 'sqrt', 'log2'],\n",
    "    'max_depth' : [4,5,6,7,8],\n",
    "    'criterion' :['gini', 'entropy']\n",
    "}\n",
    "\n",
    "gs = GridSearchCV(rf, param_grid= params, cv = 5,scoring = \"roc_auc\",verbose=1)\n",
    "gs.fit(X_train, y_train)\n",
    "print(gs.best_score_)\n",
    "print(gs.best_estimator_)\n",
    "print(gs.best_params_)"
   ]
  },
  {
   "cell_type": "markdown",
   "id": "711df56a",
   "metadata": {},
   "source": [
    "# Training Random forest classifier after hyperparameter tuning"
   ]
  },
  {
   "cell_type": "code",
   "execution_count": 9,
   "id": "af9bc6e1",
   "metadata": {},
   "outputs": [
    {
     "data": {
      "text/plain": [
       "<AxesSubplot:>"
      ]
     },
     "execution_count": 9,
     "metadata": {},
     "output_type": "execute_result"
    },
    {
     "data": {
      "image/png": "[encoded data removed]",
      "text/plain": [
       "<Figure size 432x288 with 2 Axes>"
      ]
     },
     "metadata": {
      "needs_background": "light"
     },
     "output_type": "display_data"
    }
   ],
   "source": [
    "from sklearn.ensemble import RandomForestClassifier\n",
    "rf =RandomForestClassifier(criterion='entropy', max_depth=5, max_features='sqrt',\n",
    "                       n_estimators=500,random_state=1000)\n",
    "rf.fit(X_train, y_train)\n",
    "y_predict_rf = rf.predict(X_test)\n",
    "# confusion_matrix\n",
    "cm = confusion_matrix(y_test, y_predict_rf)\n",
    "sns.heatmap(cm, annot=True, fmt=\"d\")"
   ]
  },
  {
   "cell_type": "markdown",
   "id": "063fcdff",
   "metadata": {},
   "source": [
    "# Performence of Random forest classifier"
   ]
  },
  {
   "cell_type": "code",
   "execution_count": 10,
   "id": "c85c8de4",
   "metadata": {},
   "outputs": [
    {
     "name": "stdout",
     "output_type": "stream",
     "text": [
      "accuracy 0.9214659685863874\n",
      "precision 0.9249776885319054\n",
      "recall 0.9190869086908691\n"
     ]
    }
   ],
   "source": [
    "print('accuracy',accuracy_score((y_test), y_predict_rf))\n",
    "print('precision',precision_score(y_test, y_predict_rf, average='macro'))\n",
    "print('recall',recall_score(y_test, y_predict_rf, average='macro'))"
   ]
  },
  {
   "cell_type": "markdown",
   "id": "e81c24ed",
   "metadata": {},
   "source": [
    "# Hyperparameter selection using grid search for Bagging classifier"
   ]
  },
  {
   "cell_type": "code",
   "execution_count": 11,
   "id": "f24a374e",
   "metadata": {},
   "outputs": [
    {
     "name": "stdout",
     "output_type": "stream",
     "text": [
      "Fitting 5 folds for each of 108 candidates, totalling 540 fits\n",
      "0.9753579895685158\n",
      "BaggingClassifier(bootstrap_features=True, max_features=5, max_samples=288,\n",
      "                  n_estimators=50)\n",
      "{'bootstrap': True, 'bootstrap_features': True, 'max_features': 5, 'max_samples': 288, 'n_estimators': 50}\n"
     ]
    }
   ],
   "source": [
    "from sklearn.ensemble import BaggingClassifier\n",
    "n_samples = X_data.shape[0]\n",
    "n_features = X_data.shape[1]\n",
    "bagging = BaggingClassifier() \n",
    "params = {\n",
    "          'n_estimators': [20,50,100],\n",
    "          'max_samples': [0.5, 1.0, n_samples//2, ],\n",
    "          'max_features': [0.5, 1.0, n_features//2, ],\n",
    "          'bootstrap': [True, False],\n",
    "          'bootstrap_features': [True, False]}\n",
    "\n",
    "gs = GridSearchCV(bagging, param_grid= params, cv = 5,scoring = \"roc_auc\",verbose=1)\n",
    "gs.fit(X_train, y_train)\n",
    "print(gs.best_score_)\n",
    "print(gs.best_estimator_)\n",
    "print(gs.best_params_)"
   ]
  },
  {
   "cell_type": "markdown",
   "id": "e7052934",
   "metadata": {},
   "source": [
    "# Training Bagging classifier after hyperparameter tuning"
   ]
  },
  {
   "cell_type": "code",
   "execution_count": 12,
   "id": "0bfb65f4",
   "metadata": {},
   "outputs": [
    {
     "data": {
      "text/plain": [
       "<AxesSubplot:>"
      ]
     },
     "execution_count": 12,
     "metadata": {},
     "output_type": "execute_result"
    },
    {
     "data": {
      "image/png": "[encoded data removed]",
      "text/plain": [
       "<Figure size 432x288 with 2 Axes>"
      ]
     },
     "metadata": {
      "needs_background": "light"
     },
     "output_type": "display_data"
    }
   ],
   "source": [
    "from sklearn.ensemble import BaggingClassifier\n",
    "bagging =BaggingClassifier(bootstrap_features=True, max_features=5, max_samples=0.5,\n",
    "                  n_estimators=100,random_state=1000)\n",
    "bagging.fit(X_train, y_train)\n",
    "y_predict_bagging = bagging.predict(X_test)\n",
    "# confusion_matrix\n",
    "cm = confusion_matrix(y_test, y_predict_bagging)\n",
    "sns.heatmap(cm, annot=True, fmt=\"d\")"
   ]
  },
  {
   "cell_type": "markdown",
   "id": "6c579351",
   "metadata": {},
   "source": [
    "# Performence of Bagging classifier"
   ]
  },
  {
   "cell_type": "code",
   "execution_count": 13,
   "id": "3972d056",
   "metadata": {},
   "outputs": [
    {
     "name": "stdout",
     "output_type": "stream",
     "text": [
      "accuracy 0.9162303664921466\n",
      "precision 0.9188362260792167\n",
      "recall 0.9141364136413641\n"
     ]
    }
   ],
   "source": [
    "print('accuracy',accuracy_score((y_test), y_predict_bagging))\n",
    "print('precision',precision_score(y_test, y_predict_bagging, average='macro'))\n",
    "print('recall',recall_score(y_test, y_predict_bagging, average='macro'))"
   ]
  },
  {
   "cell_type": "markdown",
   "id": "722579c9",
   "metadata": {},
   "source": [
    "# Hyperparameter selection using grid search for KNN classifier"
   ]
  },
  {
   "cell_type": "code",
   "execution_count": 14,
   "id": "4136236d",
   "metadata": {},
   "outputs": [
    {
     "name": "stdout",
     "output_type": "stream",
     "text": [
      "Fitting 5 folds for each of 114 candidates, totalling 570 fits\n",
      "0.9477299668089142\n",
      "KNeighborsClassifier(algorithm='ball_tree', metric='manhattan', n_neighbors=19)\n",
      "{'algorithm': 'ball_tree', 'metric': 'manhattan', 'n_neighbors': 19}\n"
     ]
    }
   ],
   "source": [
    "from sklearn.neighbors import KNeighborsClassifier\n",
    "import warnings\n",
    "warnings.filterwarnings('ignore')\n",
    "\n",
    "params = {'n_neighbors':range(1,20),\"metric\":[\"euclidean\", \"manhattan\"],\n",
    "              'algorithm' :['ball_tree','kd_tree','brute']\n",
    "        \n",
    "             }\n",
    "knn=KNeighborsClassifier()\n",
    "gs = GridSearchCV(knn, param_grid= params, cv = 5,scoring = \"roc_auc\",verbose=1)\n",
    "gs.fit(X_train, y_train)\n",
    "print(gs.best_score_)\n",
    "print(gs.best_estimator_)\n",
    "print(gs.best_params_)"
   ]
  },
  {
   "cell_type": "markdown",
   "id": "5d06fa4a",
   "metadata": {},
   "source": [
    "# Training KNN classifier after hyperparameter tuning"
   ]
  },
  {
   "cell_type": "code",
   "execution_count": 15,
   "id": "eb171231",
   "metadata": {},
   "outputs": [
    {
     "data": {
      "text/plain": [
       "<AxesSubplot:>"
      ]
     },
     "execution_count": 15,
     "metadata": {},
     "output_type": "execute_result"
    },
    {
     "data": {
      "image/png": "[encoded data removed]",
      "text/plain": [
       "<Figure size 432x288 with 2 Axes>"
      ]
     },
     "metadata": {
      "needs_background": "light"
     },
     "output_type": "display_data"
    }
   ],
   "source": [
    "from sklearn.neighbors import KNeighborsClassifier\n",
    "import warnings\n",
    "warnings.filterwarnings('ignore')\n",
    "knn = KNeighborsClassifier(algorithm='ball_tree', metric='manhattan', n_neighbors=19)\n",
    "knn.fit(X_train, y_train)\n",
    "y_predict_knn = knn.predict(X_test)\n",
    "# confusion_matrix\n",
    "cm = confusion_matrix(y_test, y_predict_knn)\n",
    "sns.heatmap(cm, annot=True, fmt=\"d\")"
   ]
  },
  {
   "cell_type": "markdown",
   "id": "bc62ef7c",
   "metadata": {},
   "source": [
    "# Performence of KNN classifier"
   ]
  },
  {
   "cell_type": "code",
   "execution_count": 16,
   "id": "be268ecf",
   "metadata": {},
   "outputs": [
    {
     "name": "stdout",
     "output_type": "stream",
     "text": [
      "accuracy 0.8900523560209425\n",
      "precision 0.8906010089932002\n",
      "recall 0.8918041804180419\n"
     ]
    }
   ],
   "source": [
    "print('accuracy',accuracy_score((y_test), y_predict_knn))\n",
    "print('precision',precision_score(y_test, y_predict_knn, average='macro'))\n",
    "print('recall',recall_score(y_test, y_predict_knn, average='macro'))"
   ]
  },
  {
   "cell_type": "markdown",
   "id": "941f5877",
   "metadata": {},
   "source": [
    "# LogisticRegression"
   ]
  },
  {
   "cell_type": "code",
   "execution_count": 17,
   "id": "0f7b08cc",
   "metadata": {},
   "outputs": [
    {
     "name": "stdout",
     "output_type": "stream",
     "text": [
      "Fitting 5 folds for each of 14 candidates, totalling 70 fits\n",
      "0.9748790896159317\n",
      "LogisticRegression(C=100.0)\n",
      "{'C': 100.0, 'penalty': 'l2'}\n"
     ]
    }
   ],
   "source": [
    "from sklearn.linear_model import LogisticRegression\n",
    "\n",
    "# Creating the model:\n",
    "lr = LogisticRegression() \n",
    "params = {'C': np.logspace(-3,3,7), 'penalty': ['l1', 'l2']}\n",
    "\n",
    "gs = GridSearchCV(lr, param_grid= params, cv = 5,scoring = \"roc_auc\",verbose=1)\n",
    "gs.fit(X_train, y_train)\n",
    "print(gs.best_score_)\n",
    "print(gs.best_estimator_)\n",
    "print(gs.best_params_)"
   ]
  },
  {
   "cell_type": "code",
   "execution_count": 18,
   "id": "c5d46db4",
   "metadata": {
    "scrolled": true
   },
   "outputs": [
    {
     "data": {
      "text/plain": [
       "<AxesSubplot:>"
      ]
     },
     "execution_count": 18,
     "metadata": {},
     "output_type": "execute_result"
    },
    {
     "data": {
      "image/png": "[encoded data removed]",
      "text/plain": [
       "<Figure size 432x288 with 2 Axes>"
      ]
     },
     "metadata": {
      "needs_background": "light"
     },
     "output_type": "display_data"
    }
   ],
   "source": [
    "from sklearn.linear_model import LogisticRegression\n",
    "lr =LogisticRegression(C=100.0,penalty='l2')\n",
    "lr.fit(X_train, y_train)\n",
    "y_predict_lr = lr.predict(X_test)\n",
    "# confusion_matrix\n",
    "cm = confusion_matrix(y_test, y_predict_lr)\n",
    "sns.heatmap(cm, annot=True, fmt=\"d\")"
   ]
  },
  {
   "cell_type": "markdown",
   "id": "9a4b251a",
   "metadata": {},
   "source": [
    "# Performence of Logistic Regression"
   ]
  },
  {
   "cell_type": "code",
   "execution_count": 19,
   "id": "7d7f3656",
   "metadata": {},
   "outputs": [
    {
     "name": "stdout",
     "output_type": "stream",
     "text": [
      "accuracy 0.8900523560209425\n",
      "precision 0.8916337285902504\n",
      "recall 0.8924092409240925\n"
     ]
    }
   ],
   "source": [
    "print('accuracy',accuracy_score((y_test), y_predict_lr))\n",
    "print('precision',precision_score(y_test, y_predict_lr, average='macro'))\n",
    "print('recall',recall_score(y_test, y_predict_lr, average='macro'))"
   ]
  },
  {
   "cell_type": "markdown",
   "id": "e8d6f06d",
   "metadata": {},
   "source": [
    "# ROC curve for all the classifiers "
   ]
  },
  {
   "cell_type": "code",
   "execution_count": 20,
   "id": "e393f845",
   "metadata": {},
   "outputs": [
    {
     "data": {
      "image/png": "[encoded data removed]",
      "text/plain": [
       "<Figure size 432x288 with 1 Axes>"
      ]
     },
     "metadata": {
      "needs_background": "light"
     },
     "output_type": "display_data"
    }
   ],
   "source": [
    "from sklearn import metrics\n",
    "import matplotlib.pyplot as plt\n",
    "fpr_dt, tpr_dt, thresholds_dt = metrics.roc_curve(y_test, y_predict_dt)\n",
    "fpr_rf, tpr_rf, thresholds_rf = metrics.roc_curve(y_test, y_predict_rf)\n",
    "fpr_bg, tpr_bg, thresholds_bg = metrics.roc_curve(y_test, y_predict_bagging)\n",
    "fpr_lr, tpr_lr, thresholds_lr = metrics.roc_curve(y_test, y_predict_lr)\n",
    "fpr_knn, tpr_knn, thresholds_knn = metrics.roc_curve(y_test, y_predict_knn)\n",
    "\n",
    "plt.plot(fpr_dt, tpr_dt, label=\"Decision Tree\")\n",
    "plt.plot(fpr_rf, tpr_rf, label=\"Random Forest\")\n",
    "plt.plot(fpr_bg, tpr_bg, label=\"Bagging Classifier\")\n",
    "plt.plot(fpr_lr, tpr_lr, label=\"Logistic regression\")\n",
    "plt.plot(fpr_knn, tpr_knn, label=\"KNN\")\n",
    "plt.xlim([0.0, 1.0])\n",
    "plt.ylim([0.0, 1.0])\n",
    "plt.rcParams['font.size'] = 12\n",
    "plt.title('ROC curve')\n",
    "plt.xlabel('False Positive Rate (1 - Specificity)')\n",
    "plt.ylabel('True Positive Rate (Sensitivity)')\n",
    "plt.legend(loc=\"lower right\", fontsize=10)\n",
    "plt.grid(True)"
   ]
  },
  {
   "cell_type": "markdown",
   "id": "f54c2bc9",
   "metadata": {},
   "source": [
    "# Live input"
   ]
  },
  {
   "cell_type": "code",
   "execution_count": 21,
   "id": "05ebc47b",
   "metadata": {},
   "outputs": [],
   "source": [
    "def inp():\n",
    "    l=[]\n",
    "\n",
    "    for i in range(0,11):\n",
    "        a=float(input(X_data.columns[i]))\n",
    "        l.append(a)\n",
    "    pred=rf.predict([l])\n",
    "    return int(pred)\n"
   ]
  },
  {
   "cell_type": "code",
   "execution_count": 22,
   "id": "12d811e6",
   "metadata": {},
   "outputs": [
    {
     "name": "stdout",
     "output_type": "stream",
     "text": [
      "profile pic:1\n",
      "description length:23\n",
      "external URL:0\n",
      "private:1\n",
      "#tweets:200\n",
      "#followers:32\n",
      "#following:30\n",
      "nums/length username:23\n",
      "fullname words:56\n",
      "nums/length fullname:59\n",
      "name==username:44\n",
      "Output is: 1\n"
     ]
    }
   ],
   "source": [
    "res=inp()\n",
    "print('Output is:',res)"
   ]
  },
  {
   "cell_type": "code",
   "execution_count": 23,
   "id": "c50808df",
   "metadata": {},
   "outputs": [
    {
     "name": "stdout",
     "output_type": "stream",
     "text": [
      "0    288\n",
      "1    288\n",
      "Name: fake, dtype: int64\n"
     ]
    },
    {
     "data": {
      "image/png": "[encoded data removed]",
      "text/plain": [
       "<Figure size 432x288 with 1 Axes>"
      ]
     },
     "metadata": {
      "needs_background": "light"
     },
     "output_type": "display_data"
    }
   ],
   "source": [
    "import pandas as pd\n",
    "df=pd.read_csv(r'E:\\FYP\\P2\\archive\\train.csv')\n",
    "print(df['fake'].value_counts())\n",
    "import seaborn as sns\n",
    "import matplotlib.pyplot as plt\n",
    "sns.countplot(df['fake'])\n",
    "plt.show()"
   ]
  }
 ],
 "metadata": {
  "kernelspec": {
   "display_name": "Python 3",
   "language": "python",
   "name": "python3"
  },
  "language_info": {
   "codemirror_mode": {
    "name": "ipython",
    "version": 3
   },
   "file_extension": ".py",
   "mimetype": "text/x-python",
   "name": "python",
   "nbconvert_exporter": "python",
   "pygments_lexer": "ipython3",
   "version": "3.8.8"
  }
 },
 "nbformat": 4,
 "nbformat_minor": 5
}
