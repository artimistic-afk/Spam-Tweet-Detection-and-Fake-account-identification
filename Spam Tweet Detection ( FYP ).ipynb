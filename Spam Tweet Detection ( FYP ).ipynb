{
 "cells": [
  {
   "cell_type": "markdown",
   "metadata": {},
   "source": [
    "# Accuracy"
   ]
  },
  {
   "cell_type": "code",
   "execution_count": 1,
   "metadata": {
    "id": "OTzhkp2PWmzc"
   },
   "outputs": [],
   "source": [
    "def find_accuracy():\n",
    "    import pandas as pd\n",
    "    import numpy as np\n",
    "    import re\n",
    "    df=pd.read_csv(r'E:\\FYP\\P1\\Spam.csv')\n",
    "    from sklearn.impute import SimpleImputer\n",
    "    imp = SimpleImputer(missing_values=np.nan, strategy='mean')\n",
    "    imp.fit(df[['following'\t,'followers','is_retweet','actions']])g\n",
    "    SimpleImputer()\n",
    "    a=imp.transform(df[['following'\t,'followers','is_retweet','actions']])\n",
    "    ddf= pd.DataFrame(a, columns=['following','followers','isretweet','actions'])\n",
    "  \n",
    "    from nltk.corpus import stopwords\n",
    "    import nltk\n",
    "    nltk.download('stopwords')\n",
    "    from nltk.stem.porter import PorterStemmer\n",
    "    ps = PorterStemmer()\n",
    "\n",
    "    corpus = []\n",
    "    l=[]\n",
    "    for i in range(0, len(df)): \n",
    "        phrase = re.sub(r\"won't\", \"will not\", df['Tweet'][i])\n",
    "        phrase = re.sub(\"(@[A-Za-z0-9]+)|([^0-9A-Za-z \\t])|(\\w+:\\/\\/\\S+)\",\" hashtag \",phrase)\n",
    "        phrase = re.sub(\"0-9\", \"\", phrase)\n",
    "        phrase = re.sub(\"_\", \"\", phrase)\n",
    "        phrase =  re.sub(r'https?:\\/\\/.*[\\r\\n]*', ' httpstag ',phrase )\n",
    "        phrase = re.sub(\"\\d+\", \"\", phrase)\n",
    "        phrase = re.sub(r\"aaaaaaaaaaaaaaaaaaaaaaaaaaaaaaaaaaaaaaaaaaaaaaaaaaaaaaaaaaaaaaaaaaaaaaaaaaaaaaaaaaaaaaaaaaaaaaaaaaaaaaaaaaaaaaaaaaaa\", \" \", phrase)\n",
    "        phrase = re.sub(r\"aaaaaaaaaaaaaaaaaaaaaaaaaaaaaaaa$\", '', phrase)\n",
    "        phrase = re.sub(r\"aaaaaaaaaaaaaaaaaaaaaaaaaaaaaaaaaaaaaaaaaaaah\", ' ', phrase)\n",
    "        phrase = re.sub(r'\\?', '', phrase)\n",
    "        phrase = phrase.lower()\n",
    "        phrase = phrase.split()\n",
    "        phrase = [ps.stem(word) for word in phrase if not word in stopwords.words('english')]\n",
    "        phrase = ' '.join(phrase)\n",
    "        corpus.append(phrase)\n",
    "    \n",
    "    for w in corpus: \n",
    "        l.append(ps.stem(w)) \n",
    "    df['Tweet']=l\n",
    "    from sklearn.feature_extraction.text import CountVectorizer\n",
    "    vectorizer = CountVectorizer()\n",
    "    X = vectorizer.fit_transform(df['Tweet'])\n",
    "    b=vectorizer.get_feature_names()\n",
    "  \n",
    "    df1 = pd.DataFrame(X.toarray(), columns=vectorizer.get_feature_names())\n",
    "\n",
    "    res = pd.concat([df1, ddf], axis=1)\n",
    "  \n",
    "    from sklearn.model_selection import train_test_split\n",
    "    X_train, X_test, Y_train, y_test = train_test_split(res, df['Type'], test_size=0.3, random_state=42)\n",
    "    from sklearn.naive_bayes import BernoulliNB\n",
    "    gnb = BernoulliNB(alpha=1.0)\n",
    "    y_predi = gnb.fit(X_train, Y_train)\n",
    "    y_predi=gnb.predict(X_train)\n",
    "    print(\"Number of mislabeled points in training data out of a total %d points : %d\"\n",
    "     % (X_train.shape[0], (Y_train != y_predi).sum()))\n",
    "    from sklearn.metrics import accuracy_score\n",
    "    from sklearn.metrics import confusion_matrix\n",
    "    print('Accuracy for training data',accuracy_score(Y_train, y_predi))\n",
    "    print('Confusion matrix of Training Data')\n",
    "    print(  confusion_matrix(Y_train, y_predi))\n",
    "\n",
    "    y_pred = gnb.fit(X_train, Y_train)\n",
    "    y_pred=gnb.predict(X_test)\n",
    "    print(\"Number of mislabeled points in testing data out of a total %d points : %d\" % (X_test.shape[0], (y_test != y_pred).sum()))\n",
    "    from sklearn.metrics import accuracy_score\n",
    "    print('Accuracy for testing data',accuracy_score(y_test, y_pred))\n",
    "    \n",
    "    print('Confusion matrix of Testing data')\n",
    "    print( confusion_matrix(y_test, y_pred))\n",
    "    \n",
    "    from sklearn.metrics import precision_score\n",
    "    precision1 = precision_score (y_test, y_pred, average = 'binary', pos_label = 'Quality')\n",
    "    print (\"Precision for Quality is: %3f\" %precision1)\n",
    "    precision2 = precision_score (y_test, y_pred, average = 'binary', pos_label = 'Spam')\n",
    "    print (\"Precision for Spam is: %3f\" %precision2)\n",
    "    \n",
    "    from sklearn.metrics import recall_score\n",
    "    recall1 = recall_score (y_test, y_pred, average = 'binary', pos_label = 'Quality')\n",
    "    print (\"Recall for Quality is: %3f\" %recall1)\n",
    "    recall2 = recall_score (y_test, y_pred, average = 'binary', pos_label = 'Spam')\n",
    "    print (\"Recall for Spam is: %3f\" %recall2)\n",
    "    \n",
    "    from sklearn.metrics import f1_score\n",
    "    score1 = f1_score (y_test, y_pred, average = 'binary', pos_label = 'Quality')\n",
    "    print (\"F_Measure for Quality is: %3f\" %score1)\n",
    "    score2 = f1_score (y_test, y_pred, average = 'binary', pos_label = 'Spam')\n",
    "    print (\"F_Measure for Spam is: %3f\" %score2)\n",
    "\n",
    "\n",
    "\n"
   ]
  },
  {
   "cell_type": "markdown",
   "metadata": {},
   "source": [
    "# Find Tweet"
   ]
  },
  {
   "cell_type": "code",
   "execution_count": 2,
   "metadata": {
    "id": "JiYAKyuBLEDu"
   },
   "outputs": [],
   "source": [
    "from sklearn.metrics import accuracy_score\n",
    "def find_tweet():\n",
    "    import pandas as pd\n",
    "    import numpy as np\n",
    "    import re\n",
    "    df=pd.read_csv(r'E:\\FYP\\P1\\Spam.csv')\n",
    "    a=input('enter tweet :')\n",
    "    b=int(input('enter followers : '))\n",
    "    c=int(input('enter following : '))\n",
    "    d=int(input('enter retweets : '))\n",
    "    f=int(input('enter actions : '))\n",
    "    j=0\n",
    "    inp = [{'Tweet': a, 'following':c, 'followers': b, 'is_retweet': d,'actions':f,'Type':j}]\n",
    "    i = pd.DataFrame(inp)\n",
    "    one=df[['Tweet','following'\t,'followers','is_retweet','actions','Type']]\n",
    "    two=i\n",
    "    three=pd.concat([one,two])\n",
    "    three.reset_index(inplace=True, drop=True)\n",
    "    from sklearn.impute import SimpleImputer\n",
    "    imp = SimpleImputer(missing_values=np.nan, strategy='mean')\n",
    "    imp.fit(three[['following'\t,'followers','is_retweet','actions']])\n",
    "    SimpleImputer()\n",
    "    k=imp.transform(three[['following'\t,'followers','is_retweet','actions']])\n",
    "    iddf= pd.DataFrame(k, columns=['following','followers','isretweet','actions'])\n",
    "    iddf\n",
    "    from nltk.corpus import stopwords\n",
    "    import nltk\n",
    "\n",
    "    from nltk.stem.porter import PorterStemmer\n",
    "    ps = PorterStemmer()\n",
    "\n",
    "    corpus = []\n",
    "    l=[]\n",
    "    for i in range(0, len(three) ) :\n",
    "        phrase = re.sub(r\"won't\", \"will not\", three['Tweet'][i])\n",
    "        phrase = re.sub(\"(@[A-Za-z0-9]+)|([^0-9A-Za-z \\t])|(\\w+:\\/\\/\\S+)\",\" hashtag \",phrase)\n",
    "        phrase = re.sub(\"0-9\", \"\", phrase)\n",
    "        phrase = re.sub(\"_\", \"\", phrase)\n",
    "        phrase =  re.sub(r'https?:\\/\\/.*[\\r\\n]*', ' httpstag ',phrase )\n",
    "        phrase = re.sub(\"\\d+\", \"\", phrase)\n",
    "        phrase = re.sub(r\"aaaaaaaaaaaaaaaaaaaaaaaaaaaaaaaaaaaaaaaaaaaaaaaaaaaaaaaaaaaaaaaaaaaaaaaaaaaaaaaaaaaaaaaaaaaaaaaaaaaaaaaaaaaaaaaaaaaa\", \" \", phrase)\n",
    "        phrase = re.sub(r\"aaaaaaaaaaaaaaaaaaaaaaaaaaaaaaaaaaaaaaaaaaaaaaaaaaaaaaaaaaaaaaaaaaaaaaaaaaaaaaaaaaaaaaaaaaaaaaaaaaaaaaaaaaaaaaaaaaaa\", '', phrase)\n",
    "        phrase = re.sub(r\"aaaaaaaaaaaaaaaaaaaaaaaaaaaaaaaaaaaaaaaaaaaah\", ' ', phrase)\n",
    "        phrase=re.sub(r\"aaaaaaaaaaaaaaaaaaaaaaaaaaaaaaaaaaaaaaaaaaaah\",\" \",phrase)\n",
    "    \n",
    "        phrase = re.sub(r'\\?', '', phrase)\n",
    "   \n",
    "        phrase = phrase.lower()\n",
    "        phrase = phrase.split()\n",
    "    \n",
    "        phrase = [ps.stem(word) for word in phrase if not word in stopwords.words('english')]\n",
    "        phrase = ' '.join(phrase)\n",
    "        corpus.append(phrase)\n",
    "    for w in corpus:\n",
    "\n",
    "        l.append(ps.stem(w))\n",
    "    three['Tweet']=l\n",
    "    from sklearn.feature_extraction.text import CountVectorizer\n",
    "    vectorizer = CountVectorizer()\n",
    "    Xt = vectorizer.fit_transform(three['Tweet'])\n",
    "    bt=vectorizer.get_feature_names()\n",
    "\n",
    "    df_pre = pd.DataFrame(Xt.toarray(), columns=vectorizer.get_feature_names())\n",
    "    df_pred = pd.concat([df_pre, iddf], axis=1)\n",
    "    df_pred\n",
    "    from sklearn.naive_bayes import BernoulliNB\n",
    "    gnb = BernoulliNB(alpha=1.0)\n",
    "\n",
    "    y_pred = gnb.fit(df_pred[0:11967],three['Type'][0:11967])\n",
    "    y_pred=gnb.predict(df_pred[11968:11969])\n",
    "    return list(y_pred)\n",
    "\n"
   ]
  },
  {
   "cell_type": "code",
   "execution_count": 3,
   "metadata": {
    "colab": {
     "base_uri": "https://localhost:8080/",
     "height": 386
    },
    "id": "FlZ-5FEVU9D9",
    "outputId": "9a222266-8033-4df7-a9d8-e65535242e4d"
   },
   "outputs": [
    {
     "name": "stderr",
     "output_type": "stream",
     "text": [
      "[nltk_data] Downloading package stopwords to\n",
      "[nltk_data]     C:\\Users\\Abdurrahman\\AppData\\Roaming\\nltk_data...\n",
      "[nltk_data]   Package stopwords is already up-to-date!\n"
     ]
    },
    {
     "name": "stdout",
     "output_type": "stream",
     "text": [
      "Number of mislabeled points in training data out of a total 8377 points : 108\n",
      "Accuracy for training data 0.9871075564044407\n",
      "Confusion matrix of Training Data\n",
      "[[4250   88]\n",
      " [  20 4019]]\n",
      "Number of mislabeled points in testing data out of a total 3591 points : 88\n",
      "Accuracy for testing data 0.975494291283765\n",
      "Confusion matrix of Testing data\n",
      "[[1755   60]\n",
      " [  28 1748]]\n",
      "Precision for Quality is: 0.984296\n",
      "Precision for Spam is: 0.966814\n",
      "Recall for Quality is: 0.966942\n",
      "Recall for Spam is: 0.984234\n",
      "F_Measure for Quality is: 0.975542\n",
      "F_Measure for Spam is: 0.975446\n"
     ]
    }
   ],
   "source": [
    "find_accuracy()"
   ]
  },
  {
   "cell_type": "code",
   "execution_count": 4,
   "metadata": {
    "colab": {
     "base_uri": "https://localhost:8080/",
     "height": 384
    },
    "id": "Lts69in2YL8C",
    "outputId": "02cf3151-433b-47fb-9d80-a283b42f93a6",
    "scrolled": true
   },
   "outputs": [
    {
     "name": "stdout",
     "output_type": "stream",
     "text": [
      "Quality    6153\n",
      "Spam       5815\n",
      "Name: Type, dtype: int64\n"
     ]
    },
    {
     "name": "stderr",
     "output_type": "stream",
     "text": [
      "E:\\Anaconda\\lib\\site-packages\\seaborn\\_decorators.py:36: FutureWarning: Pass the following variable as a keyword arg: x. From version 0.12, the only valid positional argument will be `data`, and passing other arguments without an explicit keyword will result in an error or misinterpretation.\n",
      "  warnings.warn(\n"
     ]
    },
    {
     "data": {
      "image/png": "[encoded data removed]",
      "text/plain": [
       "<Figure size 432x288 with 1 Axes>"
      ]
     },
     "metadata": {
      "needs_background": "light"
     },
     "output_type": "display_data"
    }
   ],
   "source": [
    "import pandas as pd\n",
    "df=pd.read_csv(r'E:\\FYP\\P1\\Spam.csv')\n",
    "print(df['Type'].value_counts())\n",
    "import seaborn as sns\n",
    "import matplotlib.pyplot as plt\n",
    "sns.countplot(df['Type'])\n",
    "plt.show()"
   ]
  },
  {
   "cell_type": "markdown",
   "metadata": {},
   "source": [
    "# Hyperparameter Tuning"
   ]
  },
  {
   "cell_type": "code",
   "execution_count": 5,
   "metadata": {
    "id": "NByXIWlCnmrh"
   },
   "outputs": [],
   "source": [
    "def find_hyperparameter():\n",
    "    from sklearn.metrics import accuracy_score\n",
    "    import pandas as pd\n",
    "    import numpy as np\n",
    "    import re\n",
    "    df=pd.read_csv(r'E:\\FYP\\P1\\Spam.csv')\n",
    "    from sklearn.impute import SimpleImputer\n",
    "    imp = SimpleImputer(missing_values=np.nan, strategy='mean')\n",
    "    imp.fit(df[['following'\t,'followers','is_retweet','actions']])\n",
    "    SimpleImputer()\n",
    "    a=imp.transform(df[['following'\t,'followers','is_retweet','actions']])\n",
    "    ddf= pd.DataFrame(a, columns=['following','followers','isretweet','actions'])\n",
    "  \n",
    "    from nltk.corpus import stopwords\n",
    "    import nltk\n",
    "    nltk.download('stopwords')\n",
    "    from nltk.stem.porter import PorterStemmer\n",
    "    ps = PorterStemmer()\n",
    "\n",
    "    corpus = []\n",
    "    l=[]\n",
    "    for i in range(0, len(df)): \n",
    "        phrase = re.sub(r\"won't\", \"will not\", df['Tweet'][i])\n",
    "        phrase = re.sub(\"(@[A-Za-z0-9]+)|([^0-9A-Za-z \\t])|(\\w+:\\/\\/\\S+)\",\" hashtag \",phrase)\n",
    "        phrase = re.sub(\"0-9\", \"\", phrase)\n",
    "        phrase = re.sub(\"_\", \"\", phrase)\n",
    "        phrase =  re.sub(r'https?:\\/\\/.*[\\r\\n]*', ' httpstag ',phrase )\n",
    "        phrase = re.sub(\"\\d+\", \"\", phrase)\n",
    "        phrase = re.sub(r\"aaaaaaaaaaaaaaaaaaaaaaaaaaaaaaaaaaaaaaaaaaaaaaaaaaaaaaaaaaaaaaaaaaaaaaaaaaaaaaaaaaaaaaaaaaaaaaaaaaaaaaaaaaaaaaaaaaaa\", \" \", phrase)\n",
    "        phrase = re.sub(r\"aaaaaaaaaaaaaaaaaaaaaaaaaaaaaaaa$\", '', phrase)\n",
    "        phrase = re.sub(r\"aaaaaaaaaaaaaaaaaaaaaaaaaaaaaaaaaaaaaaaaaaaah\", ' ', phrase)\n",
    "        phrase = re.sub(r'\\?', '', phrase)\n",
    "        phrase = phrase.lower()\n",
    "        phrase = phrase.split()\n",
    "        phrase = [ps.stem(word) for word in phrase if not word in stopwords.words('english')]\n",
    "        phrase = ' '.join(phrase)\n",
    "        corpus.append(phrase)\n",
    "    for w in corpus: \n",
    "        l.append(ps.stem(w)) \n",
    "    df['Tweet']=l\n",
    "    from sklearn.feature_extraction.text import CountVectorizer\n",
    "    vectorizer = CountVectorizer()\n",
    "    X = vectorizer.fit_transform(df['Tweet'])\n",
    "    b=vectorizer.get_feature_names()\n",
    "  \n",
    "    df1 = pd.DataFrame(X.toarray(), columns=vectorizer.get_feature_names())\n",
    "\n",
    "    res = pd.concat([df1, ddf], axis=1)\n",
    " \n",
    "    from sklearn.model_selection import train_test_split\n",
    "    X_train, X_test, Y_train, y_test = train_test_split(res, df['Type'], test_size=0.5, random_state=42)\n",
    "    l2=[]\n",
    "    l4=[]\n",
    "    from sklearn.naive_bayes import BernoulliNB\n",
    "    for i in range(1,30):\n",
    "        gnb = BernoulliNB(alpha=i)\n",
    "        y_predi = gnb.fit(X_train, Y_train)\n",
    "        y_predi=gnb.predict(X_train)\n",
    "      \n",
    "\n",
    "        gnb.fit(X_train,Y_train)\n",
    "        c=gnb.predict(X_train)\n",
    "    \n",
    "        l2.append(accuracy_score(Y_train,c)*100)\n",
    "    for j in l2:\n",
    "        error=100-j\n",
    "      \n",
    "        l4.append(error)\n",
    "    l1=[]\n",
    "    l3=[]\n",
    "    for i in range(1,30):\n",
    "        gnb = BernoulliNB(alpha=i)\n",
    "      \n",
    "    \n",
    "# Train the model using the training sets\n",
    "        gnb.fit(X_train,Y_train)\n",
    "        c=gnb.predict(X_test)\n",
    "    \n",
    "        l1.append(accuracy_score(y_test,c)*100)\n",
    "    for k in l1:\n",
    "        error2=100-k\n",
    "        print(error2)\n",
    "        l3.append(error2)\n",
    "        l5=[]\n",
    "    for i in range(len(l4)):\n",
    "        l5.append(i)\n",
    "      \n",
    "      \n",
    "    import matplotlib.pyplot as plt\n",
    "    plt.plot(l5,l3,'r')\n",
    "    plt.plot(l5,l4,color='g')\n",
    "    plt.ylabel('Error')\n",
    "    plt.xlabel('Hyperparameter')\n",
    "    plt.grid() # grid on\n",
    "    plt.show()\n",
    "\n"
   ]
  },
  {
   "cell_type": "code",
   "execution_count": 6,
   "metadata": {
    "colab": {
     "base_uri": "https://localhost:8080/",
     "height": 806
    },
    "id": "FWlH6chnoHHO",
    "outputId": "06e00ab7-36a1-4b32-8e61-de69eda40a56"
   },
   "outputs": [
    {
     "name": "stderr",
     "output_type": "stream",
     "text": [
      "[nltk_data] Downloading package stopwords to\n",
      "[nltk_data]     C:\\Users\\Abdurrahman\\AppData\\Roaming\\nltk_data...\n",
      "[nltk_data]   Package stopwords is already up-to-date!\n"
     ]
    },
    {
     "name": "stdout",
     "output_type": "stream",
     "text": [
      "2.23930481283422\n",
      "2.2560160427807574\n",
      "2.339572192513373\n",
      "2.389705882352942\n",
      "2.4732620320855716\n",
      "2.423128342245988\n",
      "2.523395721925141\n",
      "2.590240641711233\n",
      "2.774064171122987\n",
      "3.158422459893046\n",
      "3.659759358288767\n",
      "4.695855614973269\n",
      "6.049465240641723\n",
      "7.503342245989302\n",
      "9.090909090909093\n",
      "11.39705882352942\n",
      "14.070855614973269\n",
      "17.31283422459893\n",
      "22.075534759358277\n",
      "26.3870320855615\n",
      "29.69585561497327\n",
      "33.18850267379679\n",
      "35.96256684491979\n",
      "38.18516042780749\n",
      "40.22393048128342\n",
      "42.06216577540107\n",
      "43.582887700534755\n",
      "44.71925133689839\n",
      "45.838903743315505\n"
     ]
    },
    {
     "data": {
      "image/png": "[encoded data removed]",
      "text/plain": [
       "<Figure size 432x288 with 1 Axes>"
      ]
     },
     "metadata": {
      "needs_background": "light"
     },
     "output_type": "display_data"
    }
   ],
   "source": [
    "find_hyperparameter()"
   ]
  },
  {
   "cell_type": "code",
   "execution_count": 7,
   "metadata": {
    "colab": {
     "base_uri": "https://localhost:8080/",
     "height": 313
    },
    "id": "B42yRe6TAEQg",
    "outputId": "52f3a820-418a-4a93-ec9a-5a62bf1506a9"
   },
   "outputs": [
    {
     "name": "stderr",
     "output_type": "stream",
     "text": [
      "[nltk_data] Downloading package stopwords to\n",
      "[nltk_data]     C:\\Users\\Abdurrahman\\AppData\\Roaming\\nltk_data...\n",
      "[nltk_data]   Package stopwords is already up-to-date!\n"
     ]
    },
    {
     "data": {
      "image/png": "[encoded data removed]",
      "text/plain": [
       "<Figure size 432x288 with 1 Axes>"
      ]
     },
     "metadata": {
      "needs_background": "light"
     },
     "output_type": "display_data"
    }
   ],
   "source": [
    "def find_hyperparameteraccuracy():\n",
    "    from sklearn.metrics import accuracy_score\n",
    "    import pandas as pd\n",
    "    import numpy as np\n",
    "    import re\n",
    "    df=pd.read_csv(r'E:\\FYP\\P1\\Spam.csv')\n",
    "    from sklearn.impute import SimpleImputer\n",
    "    imp = SimpleImputer(missing_values=np.nan, strategy='mean')\n",
    "    imp.fit(df[['following'\t,'followers','is_retweet','actions']])\n",
    "    SimpleImputer()\n",
    "    a=imp.transform(df[['following'\t,'followers','is_retweet','actions']])\n",
    "    ddf= pd.DataFrame(a, columns=['following','followers','isretweet','actions'])\n",
    "    from nltk.corpus import stopwords\n",
    "    import nltk\n",
    "    nltk.download('stopwords')\n",
    "    from nltk.stem.porter import PorterStemmer\n",
    "    ps = PorterStemmer()\n",
    "\n",
    "    corpus = []\n",
    "    l=[]\n",
    "    for i in range(0, len(df)): \n",
    "        phrase = re.sub(r\"won't\", \"will not\", df['Tweet'][i])\n",
    "        phrase = re.sub(\"(@[A-Za-z0-9]+)|([^0-9A-Za-z \\t])|(\\w+:\\/\\/\\S+)\",\" hashtag \",phrase)\n",
    "        phrase = re.sub(\"0-9\", \"\", phrase)\n",
    "        phrase = re.sub(\"_\", \"\", phrase)\n",
    "        phrase =  re.sub(r'https?:\\/\\/.*[\\r\\n]*', ' httpstag ',phrase )\n",
    "        phrase = re.sub(\"\\d+\", \"\", phrase)\n",
    "        phrase = re.sub(r\"aaaaaaaaaaaaaaaaaaaaaaaaaaaaaaaaaaaaaaaaaaaaaaaaaaaaaaaaaaaaaaaaaaaaaaaaaaaaaaaaaaaaaaaaaaaaaaaaaaaaaaaaaaaaaaaaaaaa\", \" \", phrase)\n",
    "        phrase = re.sub(r\"aaaaaaaaaaaaaaaaaaaaaaaaaaaaaaaa$\", '', phrase)\n",
    "        phrase = re.sub(r\"aaaaaaaaaaaaaaaaaaaaaaaaaaaaaaaaaaaaaaaaaaaah\", ' ', phrase)\n",
    "        phrase = re.sub(r'\\?', '', phrase)\n",
    "        phrase = phrase.lower()\n",
    "        phrase = phrase.split()\n",
    "        phrase = [ps.stem(word) for word in phrase if not word in stopwords.words('english')]\n",
    "        phrase = ' '.join(phrase)\n",
    "        corpus.append(phrase)\n",
    "    for w in corpus: \n",
    "        l.append(ps.stem(w)) \n",
    "    df['Tweet']=l\n",
    "    from sklearn.feature_extraction.text import CountVectorizer\n",
    "    vectorizer = CountVectorizer()\n",
    "    X = vectorizer.fit_transform(df['Tweet'])\n",
    "    b=vectorizer.get_feature_names()\n",
    "  \n",
    "    df1 = pd.DataFrame(X.toarray(), columns=vectorizer.get_feature_names())\n",
    "\n",
    "    res = pd.concat([df1, ddf], axis=1)\n",
    " \n",
    "    from sklearn.model_selection import train_test_split\n",
    "    X_train, X_test, Y_train, y_test = train_test_split(res, df['Type'], test_size=0.5, random_state=42)\n",
    "    l2=[]\n",
    "    l1=[]\n",
    "    from sklearn.naive_bayes import BernoulliNB\n",
    "    for i in range(1,30):\n",
    "        gnb = BernoulliNB(alpha=i)\n",
    "        y_predi = gnb.fit(X_train, Y_train)\n",
    "        y_predi=gnb.predict(X_train)\n",
    "      \n",
    "\n",
    "\n",
    "\n",
    "        gnb.fit(X_train,Y_train)\n",
    "        c=gnb.predict(X_train)\n",
    "    \n",
    "        l2.append(accuracy_score(Y_train,c)*100)\n",
    "  \n",
    "  \n",
    "    for i in range(1,30):\n",
    "        gnb = BernoulliNB(alpha=i)\n",
    "      \n",
    "    \n",
    "# Train the model using the training sets\n",
    "        gnb.fit(X_train,Y_train)\n",
    "        c=gnb.predict(X_test)\n",
    "        l1.append(accuracy_score(y_test,c)*100)\n",
    "    \n",
    "    l5=[]\n",
    "    for i in range(len(l2)):\n",
    "        l5.append(i)\n",
    "      \n",
    "      \n",
    "    import matplotlib.pyplot as plt\n",
    "    plt.plot(l5,l1,'r')\n",
    "    plt.plot(l5,l2,color='g')\n",
    "    plt.ylabel('Accuracy')\n",
    "    plt.xlabel('Hyperparameter')\n",
    "    plt.grid() # grid on\n",
    "    plt.show()\n",
    "\n",
    "find_hyperparameteraccuracy()\n",
    "\n"
   ]
  },
  {
   "cell_type": "code",
   "execution_count": 8,
   "metadata": {},
   "outputs": [
    {
     "name": "stderr",
     "output_type": "stream",
     "text": [
      "[nltk_data] Downloading package stopwords to\n",
      "[nltk_data]     C:\\Users\\Abdurrahman\\AppData\\Roaming\\nltk_data...\n",
      "[nltk_data]   Package stopwords is already up-to-date!\n"
     ]
    },
    {
     "data": {
      "image/png": "[encoded data removed]",
      "text/plain": [
       "<Figure size 432x288 with 1 Axes>"
      ]
     },
     "metadata": {
      "needs_background": "light"
     },
     "output_type": "display_data"
    }
   ],
   "source": [
    "find_hyperparameteraccuracy()"
   ]
  },
  {
   "cell_type": "code",
   "execution_count": 9,
   "metadata": {
    "id": "_8kt7sUYM1Rr",
    "scrolled": true
   },
   "outputs": [
    {
     "name": "stdout",
     "output_type": "stream",
     "text": [
      "enter tweet :\n",
      "  @media print {\n",
      "    .ms-editor-squiggles-container {\n",
      "      display:none !important;\n",
      "    }\n",
      "  }\n",
      "  .ms-editor-squiggles-container {\n",
      "    all: initial;\n",
      "  }Imran Khan is not the prime minister of pakistan.#imransays\n",
      "enter followers : 32\n",
      "enter following : 30\n",
      "enter retweets : 5\n",
      "enter actions : 10\n"
     ]
    },
    {
     "data": {
      "text/plain": [
       "['Spam']"
      ]
     },
     "execution_count": 9,
     "metadata": {},
     "output_type": "execute_result"
    }
   ],
   "source": [
    "find_tweet()"
   ]
  }
 ],
 "metadata": {
  "colab": {
   "collapsed_sections": [],
   "name": "Spamdtectionfyp.ipynb",
   "provenance": []
  },
  "kernelspec": {
   "display_name": "Python 3",
   "language": "python",
   "name": "python3"
  },
  "language_info": {
   "codemirror_mode": {
    "name": "ipython",
    "version": 3
   },
   "file_extension": ".py",
   "mimetype": "text/x-python",
   "name": "python",
   "nbconvert_exporter": "python",
   "pygments_lexer": "ipython3",
   "version": "3.8.8"
  }
 },
 "nbformat": 4,
 "nbformat_minor": 1
}
